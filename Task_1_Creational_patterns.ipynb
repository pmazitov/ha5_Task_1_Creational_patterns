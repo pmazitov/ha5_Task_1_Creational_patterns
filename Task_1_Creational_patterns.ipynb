{
 "cells": [
  {
   "cell_type": "code",
   "execution_count": 63,
   "id": "2f2e8e5e",
   "metadata": {},
   "outputs": [],
   "source": [
    "from sklearn import datasets\n",
    "from sklearn.model_selection import train_test_split\n",
    "from sklearn.linear_model import LogisticRegression\n",
    "import pandas as pd\n",
    "import numpy as np\n",
    "\n",
    "\n",
    "class CreationalPatternName:\n",
    "    def __init__(self, X_train, y_train):\n",
    "        self.X_train = X_train\n",
    "        self.y_train = y_train\n",
    "\n",
    "    def get_subsample(self, df_share):\n",
    "#         <YOUR CODE HERE>\n",
    "        \"\"\"\n",
    "        1. Copy train dataset\n",
    "        2. Shuffle data (don't miss the connection between X_train and y_train)\n",
    "        3. Return df_share %-subsample of X_train and y_train\n",
    "        \"\"\"\n",
    "        _, X_sample, _, y_sample = train_test_split(self.X_train, self.y_train, test_size=df_share, shuffle=True)\n",
    "        return X_sample, y_sample\n",
    "\n",
    "    \n",
    "if __name__ == \"__main__\":\n",
    "#     <YOUR CODE HERE>\n",
    "    \"\"\"\n",
    "    1. Load iris dataset\n",
    "    2. Shuffle data and divide into train / test.\n",
    "    \"\"\"\n",
    "    dataset = datasets.load_iris()\n",
    "    X_train, X_test, y_train, y_test = train_test_split(dataset.data, dataset.target, test_size=0.2, shuffle=True)\n",
    "    \n",
    "    # Preprocess:\n",
    "    mean_ = np.mean(X_train, axis=0)\n",
    "    std_ = np.max(X_train, axis=0)\n",
    "    X_test = (X_test - mean_) / std_\n",
    "\n",
    "    pattern_item = CreationalPatternName(X_train, y_train)\n",
    "    df_shares = []\n",
    "    scores = []\n",
    "    for df_share in range(10, 101, 10):\n",
    "        curr_X_train, curr_y_train = pattern_item.get_subsample(df_share)\n",
    "#         <YOUR CODE HERE>\n",
    "        \"\"\"\n",
    "        1. Preprocess curr_X_train, curr_y_train in the way you want\n",
    "        2. Train Linear Regression on the subsample\n",
    "        3. Save or print the score to check how df_share affects the quality\n",
    "        \"\"\"\n",
    "        curr_X_train = (curr_X_train - mean_) / std_\n",
    "        \n",
    "        del clf\n",
    "        clf = LogisticRegression()\n",
    "        clf.fit(curr_X_train, curr_y_train)\n",
    "        \n",
    "        df_shares += [df_share]\n",
    "        scores += [clf.score(X_test, y_test)]"
   ]
  },
  {
   "cell_type": "code",
   "execution_count": 64,
   "id": "0377e9a4",
   "metadata": {},
   "outputs": [
    {
     "data": {
      "text/plain": [
       "[<matplotlib.lines.Line2D at 0x1430c5a00>]"
      ]
     },
     "execution_count": 64,
     "metadata": {},
     "output_type": "execute_result"
    },
    {
     "data": {
      "image/png": "[encoded data removed]",
      "text/plain": [
       "<Figure size 432x288 with 1 Axes>"
      ]
     },
     "metadata": {
      "needs_background": "light"
     },
     "output_type": "display_data"
    }
   ],
   "source": [
    "import matplotlib.pyplot as plt\n",
    "\n",
    "plt.plot(df_shares, scores)"
   ]
  },
  {
   "cell_type": "code",
   "execution_count": null,
   "id": "1e2421df",
   "metadata": {},
   "outputs": [],
   "source": []
  }
 ],
 "metadata": {
  "kernelspec": {
   "display_name": "Python 3 (ipykernel)",
   "language": "python",
   "name": "python3"
  },
  "language_info": {
   "codemirror_mode": {
    "name": "ipython",
    "version": 3
   },
   "file_extension": ".py",
   "mimetype": "text/x-python",
   "name": "python",
   "nbconvert_exporter": "python",
   "pygments_lexer": "ipython3",
   "version": "3.8.9"
  }
 },
 "nbformat": 4,
 "nbformat_minor": 5
}
